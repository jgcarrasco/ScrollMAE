{
 "cells": [
  {
   "cell_type": "code",
   "execution_count": 33,
   "metadata": {},
   "outputs": [],
   "source": [
    "import zarr\n",
    "import cv2\n",
    "import torch"
   ]
  },
  {
   "cell_type": "code",
   "execution_count": 9,
   "metadata": {},
   "outputs": [],
   "source": [
    "segment_path = \"../../jepa-scrolls/data/20231210121321.zarr\"\n",
    "segment = zarr.load(segment_path)[0]\n",
    "segment_id = segment_path.split(\"/\")[-1].split(\".\")[0]\n",
    "segment_mask = cv2.imread(f\"{segment_path}/{segment_id}_mask.png\", cv2.IMREAD_GRAYSCALE)"
   ]
  },
  {
   "cell_type": "code",
   "execution_count": 23,
   "metadata": {},
   "outputs": [],
   "source": [
    "masked_segment = segment[:, segment_mask.astype(\"bool\")] # only retrieve the part inside the mask\n"
   ]
  },
  {
   "cell_type": "code",
   "execution_count": 35,
   "metadata": {},
   "outputs": [
    {
     "data": {
      "text/plain": [
       "tensor([ 67.0606,  67.2054,  67.3705,  67.5571,  67.7466,  67.9055,  68.0063,\n",
       "         68.0317,  67.9616,  67.7846,  67.4796,  67.0356,  66.4450,  65.7029,\n",
       "         64.8284,  63.8613,  62.8541,  61.8905,  61.0772,  60.5502,  60.5043,\n",
       "         61.1674,  62.7721,  65.5315,  69.6004,  75.0281,  81.6668,  89.0530,\n",
       "         96.2861, 102.0048, 104.5704, 102.5594,  95.4598,  84.2359,  71.2785,\n",
       "         59.4769,  50.9357,  46.3587,  45.3708,  47.1475,  50.7678,  55.3225,\n",
       "         60.0028,  64.1849,  67.4763,  69.7274,  70.9571,  71.3148,  71.0318,\n",
       "         70.3395,  69.4414,  68.5089,  67.6507,  66.9206,  66.3441,  65.9166,\n",
       "         65.6138,  65.4092,  65.2782,  65.1964,  65.1381,  65.0985,  65.0759,\n",
       "         65.0582,  65.0349])"
      ]
     },
     "execution_count": 35,
     "metadata": {},
     "output_type": "execute_result"
    }
   ],
   "source": [
    "torch.tensor(mean, dtype=torch.float32)"
   ]
  },
  {
   "cell_type": "code",
   "execution_count": 28,
   "metadata": {},
   "outputs": [],
   "source": [
    "mean = masked_segment.mean(1)"
   ]
  },
  {
   "cell_type": "code",
   "execution_count": 24,
   "metadata": {},
   "outputs": [
    {
     "data": {
      "text/plain": [
       "((15839, 12489), (65, 15839, 12489), (65, 171051022))"
      ]
     },
     "execution_count": 24,
     "metadata": {},
     "output_type": "execute_result"
    }
   ],
   "source": [
    "tuple(masked_segment.std(1))"
   ]
  }
 ],
 "metadata": {
  "kernelspec": {
   "display_name": ".venv",
   "language": "python",
   "name": "python3"
  },
  "language_info": {
   "codemirror_mode": {
    "name": "ipython",
    "version": 3
   },
   "file_extension": ".py",
   "mimetype": "text/x-python",
   "name": "python",
   "nbconvert_exporter": "python",
   "pygments_lexer": "ipython3",
   "version": "3.11.2"
  }
 },
 "nbformat": 4,
 "nbformat_minor": 2
}
